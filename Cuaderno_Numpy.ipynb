{
  "nbformat": 4,
  "nbformat_minor": 0,
  "metadata": {
    "colab": {
      "name": "Cuaderno Numpy.ipynb",
      "provenance": [],
      "collapsed_sections": [],
      "toc_visible": true,
      "authorship_tag": "ABX9TyP5ZzUCuYaF5+cNSozF0pLz",
      "include_colab_link": true
    },
    "kernelspec": {
      "name": "python3",
      "display_name": "Python 3"
    },
    "language_info": {
      "name": "python"
    }
  },
  "cells": [
    {
      "cell_type": "markdown",
      "metadata": {
        "id": "view-in-github",
        "colab_type": "text"
      },
      "source": [
        "<a href=\"https://colab.research.google.com/github/Afes4/Taller-cuadernos/blob/main/Cuaderno_Numpy.ipynb\" target=\"_parent\"><img src=\"https://colab.research.google.com/assets/colab-badge.svg\" alt=\"Open In Colab\"/></a>"
      ]
    },
    {
      "cell_type": "markdown",
      "source": [
        "# **Diplomado en Inteligencia Artificial y Aprendizaje Profundo**"
      ],
      "metadata": {
        "id": "05M7Tj1ZW7ld"
      }
    },
    {
      "cell_type": "markdown",
      "source": [
        "# **Taller de numpy**"
      ],
      "metadata": {
        "id": "HdEfTzgpXAAL"
      }
    },
    {
      "cell_type": "markdown",
      "source": [
        "# Autor"
      ],
      "metadata": {
        "id": "fG4wAdofXG9h"
      }
    },
    {
      "cell_type": "markdown",
      "source": [
        "Anderson Felipe Estrada Sánchez, anestradas@unal.edu.co"
      ],
      "metadata": {
        "id": "6Apu43cAXwyn"
      }
    },
    {
      "cell_type": "markdown",
      "source": [
        "# **Tomado de:**"
      ],
      "metadata": {
        "id": "yY269iCkX-Gj"
      }
    },
    {
      "cell_type": "markdown",
      "source": [
        "https://github.com/AprendizajeProfundo/Diplomado/blob/master/Temas/M%C3%B3dulo%2013-%20Talleres/Cuadernos/Taller_numpy.ipynb"
      ],
      "metadata": {
        "id": "DCkDRDo8YEsT"
      }
    },
    {
      "cell_type": "markdown",
      "source": [
        "# **¿Qué es?**"
      ],
      "metadata": {
        "id": "c4qup2P3YGFp"
      }
    },
    {
      "cell_type": "markdown",
      "source": [
        "Numpy es un paquete de python dedicado principalmente al manejo de conjuntos o \"arrays\". Extendiendose luego al álgebra lineal, matrices y probabilidad."
      ],
      "metadata": {
        "id": "mgPKmDWWYr8B"
      }
    },
    {
      "cell_type": "markdown",
      "source": [
        "### **¿Por qué usar arrays de numpy y no listas o tuplas de python?**"
      ],
      "metadata": {
        "id": "XWCBZ4l_aMao"
      }
    },
    {
      "cell_type": "markdown",
      "source": [
        "Aunque python base tiene listas, el usar arrays es más rápido y consume menos memoria. Algo altamente necesario cuando se hacen operaciones de gran tamaño como puede ser el algebra matricial, por ejemplo."
      ],
      "metadata": {
        "id": "EdoAL4zcaQJT"
      }
    },
    {
      "cell_type": "code",
      "source": [
        "import numpy as np"
      ],
      "metadata": {
        "id": "rcXb3Nd3abwW"
      },
      "execution_count": null,
      "outputs": []
    },
    {
      "cell_type": "markdown",
      "source": [
        "# **Creación básica de arrays**"
      ],
      "metadata": {
        "id": "EcjqbU-Kaix1"
      }
    },
    {
      "cell_type": "markdown",
      "source": [
        "Vamos a crear arrays de distintas dimensiones. Para esto podemos usar números, listas o tuplas."
      ],
      "metadata": {
        "id": "SH4Sqkdoakh2"
      }
    },
    {
      "cell_type": "code",
      "source": [
        "a=np.array(13) #array de dimensión 0\n",
        "b=np.array([1,2,3,4]) #array de dimensión 1\n",
        "c=np.array([[1,2,3,4],[5,6,7,8]]) #array de dimensión 2\n",
        "d=np.array([[[1,2,3,4],[5,6,7,8]],[[9,10,11,12],[13,14,15,16]]]) #array de dimensión 3\n",
        "\n",
        "print(\"a =\",a,\"\\n\")\n",
        "print(\"b =\",b,\"\\n\")\n",
        "print(\"c =\",c,\"\\n\")\n",
        "print(\"d =\",d,\"\\n\")"
      ],
      "metadata": {
        "colab": {
          "base_uri": "https://localhost:8080/"
        },
        "id": "BmJXQq6Hao1f",
        "outputId": "85b0199e-fcbc-48f9-d38f-7fc998b87b20"
      },
      "execution_count": null,
      "outputs": [
        {
          "output_type": "stream",
          "name": "stdout",
          "text": [
            "a = 13 \n",
            "\n",
            "b = [1 2 3 4] \n",
            "\n",
            "c = [[1 2 3 4]\n",
            " [5 6 7 8]] \n",
            "\n",
            "d = [[[ 1  2  3  4]\n",
            "  [ 5  6  7  8]]\n",
            "\n",
            " [[ 9 10 11 12]\n",
            "  [13 14 15 16]]] \n",
            "\n"
          ]
        }
      ]
    },
    {
      "cell_type": "markdown",
      "source": [
        "Para revisar el número de dimensiones, usamos *ndim*"
      ],
      "metadata": {
        "id": "xKtB4tWyaq-y"
      }
    },
    {
      "cell_type": "code",
      "source": [
        "print(a.ndim)\n",
        "print(b.ndim)\n",
        "print(c.ndim)\n",
        "print(d.ndim)"
      ],
      "metadata": {
        "colab": {
          "base_uri": "https://localhost:8080/"
        },
        "id": "vTfRk3pjeK-n",
        "outputId": "6b77626c-b7f5-47e9-b462-f4b2b20a8df7"
      },
      "execution_count": null,
      "outputs": [
        {
          "output_type": "stream",
          "name": "stdout",
          "text": [
            "0\n",
            "1\n",
            "2\n",
            "3\n"
          ]
        }
      ]
    },
    {
      "cell_type": "markdown",
      "source": [
        "# **Indexación básica**"
      ],
      "metadata": {
        "id": "nMJrgLcserJn"
      }
    },
    {
      "cell_type": "markdown",
      "source": [
        "El proceso de indexación en numpy es similar al de las listas en python. Cada número implica buscar la posición en cada dimensión del array"
      ],
      "metadata": {
        "id": "TVzQcvl_esml"
      }
    },
    {
      "cell_type": "code",
      "source": [
        "print(\"a =\",a)\n",
        "print(\"b[2] = \",b[2])\n",
        "print(\"c[1] =\",c[1])\n",
        "print(\"d[1] =\",d[1])"
      ],
      "metadata": {
        "colab": {
          "base_uri": "https://localhost:8080/"
        },
        "id": "KiRO9SPrewig",
        "outputId": "98f9d83b-e041-4718-dd4c-4100c5c629a8"
      },
      "execution_count": null,
      "outputs": [
        {
          "output_type": "stream",
          "name": "stdout",
          "text": [
            "a = 13\n",
            "b[2] =  3\n",
            "c[1] = [5 6 7 8]\n",
            "d[1] = [[ 9 10 11 12]\n",
            " [13 14 15 16]]\n"
          ]
        }
      ]
    },
    {
      "cell_type": "code",
      "source": [
        "print(\"a =\",a)\n",
        "print(\"b[2] =\",b[2])\n",
        "print(\"c[1,2] =\",c[1,2])\n",
        "print(\"d[1,0,2] =\",d[1,0,2])"
      ],
      "metadata": {
        "colab": {
          "base_uri": "https://localhost:8080/"
        },
        "id": "rikywq44e3ZX",
        "outputId": "80b6d2e3-f506-45a5-df8c-45cff4a3f036"
      },
      "execution_count": null,
      "outputs": [
        {
          "output_type": "stream",
          "name": "stdout",
          "text": [
            "a = 13\n",
            "b[2] = 3\n",
            "c[1,2] = 7\n",
            "d[1,0,2] = 11\n"
          ]
        }
      ]
    },
    {
      "cell_type": "markdown",
      "source": [
        "Similarmente podemos segmentar arrays como en las listas de python,"
      ],
      "metadata": {
        "id": "jBrJshleewHO"
      }
    },
    {
      "cell_type": "code",
      "source": [
        "print(b[1:4]) #b = [1 2 3 4] \n",
        "print(c[1,1:3]) #c = [[1 2 3 4][5 6 7 8]] "
      ],
      "metadata": {
        "colab": {
          "base_uri": "https://localhost:8080/"
        },
        "id": "I_5D-CBOe7kQ",
        "outputId": "05a2e119-7d3a-4bf2-ddba-8f35801fa14d"
      },
      "execution_count": null,
      "outputs": [
        {
          "output_type": "stream",
          "name": "stdout",
          "text": [
            "[2 3 4]\n",
            "[6 7]\n"
          ]
        }
      ]
    },
    {
      "cell_type": "markdown",
      "source": [
        "# **Diferentes tipos de datos en los arrays**"
      ],
      "metadata": {
        "id": "a7fz7OFSfCbu"
      }
    },
    {
      "cell_type": "markdown",
      "source": [
        "Los arrays no están limitados a números enteros, pueden también tener cadenas, booleanos, o de punto flotante."
      ],
      "metadata": {
        "id": "rR7K_cCAfGJt"
      }
    },
    {
      "cell_type": "code",
      "source": [
        "frutas = np.array(['Manzana', 'Naranja', 'Uva']) #cadenas\n",
        "print(frutas.dtype)"
      ],
      "metadata": {
        "colab": {
          "base_uri": "https://localhost:8080/"
        },
        "id": "mkaoD3ACfImP",
        "outputId": "eaaabb25-9e69-4c78-ca1b-f92556fdd997"
      },
      "execution_count": null,
      "outputs": [
        {
          "output_type": "stream",
          "name": "stdout",
          "text": [
            "<U7\n"
          ]
        }
      ]
    },
    {
      "cell_type": "markdown",
      "source": [
        "Podemos manipular el tipo de los datos del array dentro de la función de creación del array np.array, siempre y cuando el cambio sea posible. Por ejemplo podemos pasar enteros a cadenas (integers a strings) pero no viceversa."
      ],
      "metadata": {
        "id": "_eFrbarkfMBq"
      }
    },
    {
      "cell_type": "code",
      "source": [
        "number_to_string=np.array([6,1,2,4,623,8], dtype='S') #b denota un string\n",
        "print(number_to_string.dtype)\n",
        "print(number_to_string)"
      ],
      "metadata": {
        "colab": {
          "base_uri": "https://localhost:8080/"
        },
        "id": "m6gDaKCmfO88",
        "outputId": "7f6f2f87-de33-4d00-fc91-93d00d224327"
      },
      "execution_count": null,
      "outputs": [
        {
          "output_type": "stream",
          "name": "stdout",
          "text": [
            "|S3\n",
            "[b'6' b'1' b'2' b'4' b'623' b'8']\n"
          ]
        }
      ]
    },
    {
      "cell_type": "code",
      "source": [
        "try:\n",
        "    error_array = np.array(['a', '2', '3'], dtype='i')\n",
        "except:\n",
        "    print(\"hay un error en su lógica\")"
      ],
      "metadata": {
        "colab": {
          "base_uri": "https://localhost:8080/"
        },
        "id": "b1PQlSu2fVEp",
        "outputId": "f24e426e-8e0f-44e3-a729-40bdd0bb2493"
      },
      "execution_count": null,
      "outputs": [
        {
          "output_type": "stream",
          "name": "stdout",
          "text": [
            "hay un error en su lógica\n"
          ]
        }
      ]
    },
    {
      "cell_type": "markdown",
      "source": [
        "Podemos también cambiar el tipo en arrays ya existentes"
      ],
      "metadata": {
        "id": "t4nD6pf7fWkE"
      }
    },
    {
      "cell_type": "code",
      "source": [
        "floating_array = np.array([1.1, 2.1, 3.1]) #punto flotante\n",
        "\n",
        "int_array = floating_array.astype('i')\n",
        "print(int_array)"
      ],
      "metadata": {
        "colab": {
          "base_uri": "https://localhost:8080/"
        },
        "id": "d-fUlEgCfa3L",
        "outputId": "b31062a0-7aeb-4872-bf9a-32b465bec0de"
      },
      "execution_count": null,
      "outputs": [
        {
          "output_type": "stream",
          "name": "stdout",
          "text": [
            "[1 2 3]\n"
          ]
        }
      ]
    },
    {
      "cell_type": "markdown",
      "source": [
        "# **Forma de los arrays**"
      ],
      "metadata": {
        "id": "MDW-XwtKfZNc"
      }
    },
    {
      "cell_type": "markdown",
      "source": [
        "La forma es distinta a la dimensión. Esta se define como el número de elementos de la dimensión."
      ],
      "metadata": {
        "id": "M5TYfI42fnKa"
      }
    },
    {
      "cell_type": "code",
      "source": [
        "print(a.shape) # a = 13 \n",
        "print(b.shape) # b = [1 2 3 4] \n",
        "print(c.shape) # c = [[1 2 3 4][5 6 7 8]] \n",
        "print(d.shape) # d = [[[ 1  2  3  4][ 5  6  7  8]] [[ 9 10 11 12][13 14 15 16]]] "
      ],
      "metadata": {
        "colab": {
          "base_uri": "https://localhost:8080/"
        },
        "id": "MtduWv6gf0ZB",
        "outputId": "ec4b99e2-6950-402a-fe2b-2e11605488b4"
      },
      "execution_count": null,
      "outputs": [
        {
          "output_type": "stream",
          "name": "stdout",
          "text": [
            "()\n",
            "(4,)\n",
            "(2, 4)\n",
            "(2, 2, 4)\n"
          ]
        }
      ]
    },
    {
      "cell_type": "markdown",
      "source": [
        "### **Reformar arrays**"
      ],
      "metadata": {
        "id": "XN_1GJSRf8KV"
      }
    },
    {
      "cell_type": "markdown",
      "source": [
        "Podemos cambiar la forma de los arrays. Esto significa aumentar el número de dimensiones o cambiar cuantos elementos hay por dimensión."
      ],
      "metadata": {
        "id": "HQQ8oZhhf72k"
      }
    },
    {
      "cell_type": "code",
      "source": [
        "print(\"c =\",c,\"\\n\")\n",
        "c_1D=c.reshape(1,8)\n",
        "print(\"c_1D =\",c_1D,\"\\n\")\n",
        "c_4D=c.reshape(4,2)\n",
        "print(\"c_4D =\",c_4D,\"\\n\")"
      ],
      "metadata": {
        "colab": {
          "base_uri": "https://localhost:8080/"
        },
        "id": "jdDvVDf-f9AB",
        "outputId": "ad06f2dc-4169-4cb9-c1e9-17dd27a4f218"
      },
      "execution_count": null,
      "outputs": [
        {
          "output_type": "stream",
          "name": "stdout",
          "text": [
            "c = [[1 2 3 4]\n",
            " [5 6 7 8]] \n",
            "\n",
            "c_1D = [[1 2 3 4 5 6 7 8]] \n",
            "\n",
            "c_4D = [[1 2]\n",
            " [3 4]\n",
            " [5 6]\n",
            " [7 8]] \n",
            "\n"
          ]
        }
      ]
    },
    {
      "cell_type": "markdown",
      "source": [
        "¿Podemos hacer cualquier cambio en la forma? Si, mientras las que se quieren conseguir coincidan con la cantidad de elementos."
      ],
      "metadata": {
        "id": "9s5md8jGgKVn"
      }
    },
    {
      "cell_type": "code",
      "source": [
        "print(d)"
      ],
      "metadata": {
        "colab": {
          "base_uri": "https://localhost:8080/"
        },
        "id": "cyDeo3h3gLGe",
        "outputId": "7d0f752b-6410-4a31-b714-5e41031fd353"
      },
      "execution_count": null,
      "outputs": [
        {
          "output_type": "stream",
          "name": "stdout",
          "text": [
            "[[[ 1  2  3  4]\n",
            "  [ 5  6  7  8]]\n",
            "\n",
            " [[ 9 10 11 12]\n",
            "  [13 14 15 16]]]\n"
          ]
        }
      ]
    },
    {
      "cell_type": "markdown",
      "source": [
        "*d* es un array con 16 elementos, así que podemos hacer reshape con tamaños por ejemplo 1x16, 4x4, 8x2, 2x4x2 Por ejemplo, no podemos reformar un arrey a 3x5."
      ],
      "metadata": {
        "id": "Hk8aIzxGgPM8"
      }
    },
    {
      "cell_type": "code",
      "source": [
        "try:\n",
        "    d.reshape(3,5)\n",
        "except:\n",
        "    print('Hay un error en sus operaciones')"
      ],
      "metadata": {
        "colab": {
          "base_uri": "https://localhost:8080/"
        },
        "id": "UbJa0ilxgStm",
        "outputId": "8cf985ba-ba5f-40bf-b1aa-b1eea4ef6b20"
      },
      "execution_count": null,
      "outputs": [
        {
          "output_type": "stream",
          "name": "stdout",
          "text": [
            "Hay un error en sus operaciones\n"
          ]
        }
      ]
    },
    {
      "cell_type": "code",
      "source": [
        "d.reshape(2,2,2,2)"
      ],
      "metadata": {
        "colab": {
          "base_uri": "https://localhost:8080/"
        },
        "id": "68jA43WOgUJd",
        "outputId": "34460728-976b-409b-9d52-0776cda7631b"
      },
      "execution_count": null,
      "outputs": [
        {
          "output_type": "execute_result",
          "data": {
            "text/plain": [
              "array([[[[ 1,  2],\n",
              "         [ 3,  4]],\n",
              "\n",
              "        [[ 5,  6],\n",
              "         [ 7,  8]]],\n",
              "\n",
              "\n",
              "       [[[ 9, 10],\n",
              "         [11, 12]],\n",
              "\n",
              "        [[13, 14],\n",
              "         [15, 16]]]])"
            ]
          },
          "metadata": {},
          "execution_count": 18
        }
      ]
    },
    {
      "cell_type": "markdown",
      "source": [
        "### **Dimensión desconocida**"
      ],
      "metadata": {
        "id": "6fW3KNpRggap"
      }
    },
    {
      "cell_type": "markdown",
      "source": [
        "Podemos definir el cambio de forma con una dimensión la cual no sabemos el tamaño. Numpy se encargará de definir el tamaño que mejor se ajuste."
      ],
      "metadata": {
        "id": "xOq6XbMAgoOg"
      }
    },
    {
      "cell_type": "code",
      "source": [
        "arr = np.array([1, 2, 3, 4, 5, 6, 7, 8, 9])\n",
        "arr.reshape(3,-1)"
      ],
      "metadata": {
        "colab": {
          "base_uri": "https://localhost:8080/"
        },
        "id": "VX2WSTuygpRz",
        "outputId": "582bb9dc-fb41-41be-b00b-4da769484291"
      },
      "execution_count": null,
      "outputs": [
        {
          "output_type": "execute_result",
          "data": {
            "text/plain": [
              "array([[1, 2, 3],\n",
              "       [4, 5, 6],\n",
              "       [7, 8, 9]])"
            ]
          },
          "metadata": {},
          "execution_count": 19
        }
      ]
    },
    {
      "cell_type": "markdown",
      "source": [
        "Podemos usar la dimensión desconocida para \"aplanar\" el array a una dimensión."
      ],
      "metadata": {
        "id": "z3y5vGGng2hU"
      }
    },
    {
      "cell_type": "code",
      "source": [
        "d.reshape(-1)"
      ],
      "metadata": {
        "colab": {
          "base_uri": "https://localhost:8080/"
        },
        "id": "F5qCc2Hyg3KP",
        "outputId": "3c82f2c2-dfff-4279-c7c8-154da0e154f6"
      },
      "execution_count": null,
      "outputs": [
        {
          "output_type": "execute_result",
          "data": {
            "text/plain": [
              "array([ 1,  2,  3,  4,  5,  6,  7,  8,  9, 10, 11, 12, 13, 14, 15, 16])"
            ]
          },
          "metadata": {},
          "execution_count": 20
        }
      ]
    },
    {
      "cell_type": "markdown",
      "source": [
        "### **Transpuesta**"
      ],
      "metadata": {
        "id": "GCEgqlE8g6gT"
      }
    },
    {
      "cell_type": "markdown",
      "source": [
        "Para transponer el array utilizamos *.T*"
      ],
      "metadata": {
        "id": "l58TTxYLg-ei"
      }
    },
    {
      "cell_type": "code",
      "source": [
        "print(\"c =\",c,\"\\n\")\n",
        "print(\"c.T =\",c.T)"
      ],
      "metadata": {
        "colab": {
          "base_uri": "https://localhost:8080/"
        },
        "id": "5WiG33GAhAr0",
        "outputId": "604cf4ea-8bb3-4c57-e291-3fb4a60205f5"
      },
      "execution_count": null,
      "outputs": [
        {
          "output_type": "stream",
          "name": "stdout",
          "text": [
            "c = [[1 2 3 4]\n",
            " [5 6 7 8]] \n",
            "\n",
            "c.T = [[1 5]\n",
            " [2 6]\n",
            " [3 7]\n",
            " [4 8]]\n"
          ]
        }
      ]
    },
    {
      "cell_type": "markdown",
      "source": [
        "# **Iterar arrays**"
      ],
      "metadata": {
        "id": "YhTxl6UVhFDI"
      }
    },
    {
      "cell_type": "markdown",
      "source": [
        "Podemos usar los métodos tradicionales para iterar."
      ],
      "metadata": {
        "id": "V9N5OpV7hG3S"
      }
    },
    {
      "cell_type": "code",
      "source": [
        "for x in d:\n",
        "    print(x)"
      ],
      "metadata": {
        "colab": {
          "base_uri": "https://localhost:8080/"
        },
        "id": "cwNDKbhxhI5A",
        "outputId": "0a45f0a5-79d9-41d4-e72a-80d542f9133c"
      },
      "execution_count": null,
      "outputs": [
        {
          "output_type": "stream",
          "name": "stdout",
          "text": [
            "[[1 2 3 4]\n",
            " [5 6 7 8]]\n",
            "[[ 9 10 11 12]\n",
            " [13 14 15 16]]\n"
          ]
        }
      ]
    },
    {
      "cell_type": "markdown",
      "source": [
        "Si queremos iterar cada elemento, necesitamos un *for* por cada dimensión"
      ],
      "metadata": {
        "id": "lgy9qQAAhUuj"
      }
    },
    {
      "cell_type": "code",
      "source": [
        "for x in d:\n",
        "    for y in x:\n",
        "        for z in y:\n",
        "            print(z)"
      ],
      "metadata": {
        "colab": {
          "base_uri": "https://localhost:8080/"
        },
        "id": "lE0Qmi9lhWVN",
        "outputId": "b708bf2c-29bf-40ba-86dc-36acbb8f014e"
      },
      "execution_count": null,
      "outputs": [
        {
          "output_type": "stream",
          "name": "stdout",
          "text": [
            "1\n",
            "2\n",
            "3\n",
            "4\n",
            "5\n",
            "6\n",
            "7\n",
            "8\n",
            "9\n",
            "10\n",
            "11\n",
            "12\n",
            "13\n",
            "14\n",
            "15\n",
            "16\n"
          ]
        }
      ]
    },
    {
      "cell_type": "markdown",
      "source": [
        "Esto por supuesto no es óptimo. Así que numpy tiene la función *nditer()* para estos casos."
      ],
      "metadata": {
        "id": "k3Rq2rVEhaPU"
      }
    },
    {
      "cell_type": "markdown",
      "source": [
        "# **Aplicar operaciones entre arrays**"
      ],
      "metadata": {
        "id": "stpO_3HQifbi"
      }
    },
    {
      "cell_type": "markdown",
      "source": [
        "Numpy tiene sus propias formas de aplicar operaciones:"
      ],
      "metadata": {
        "id": "1RvNfea7ijyt"
      }
    },
    {
      "cell_type": "markdown",
      "source": [
        "## **Suma**"
      ],
      "metadata": {
        "id": "FTNLLoYNinWr"
      }
    },
    {
      "cell_type": "markdown",
      "source": [
        "Numpy tiene dos funciones, np.add() y np.sum(). El primero se aplica entre argumentos, el segundo se aplica en n elementos para que se haga la suma, es necesario que ambos arrays tengan la misma forma"
      ],
      "metadata": {
        "id": "585CzaQrisAr"
      }
    },
    {
      "cell_type": "code",
      "source": [
        "arr1=np.array([[1,2,3],\n",
        "               [4,5,6]])\n",
        "arr2=np.array([[6,5,4],\n",
        "               [3,2,1]])\n",
        "np.add(arr1,arr2)"
      ],
      "metadata": {
        "colab": {
          "base_uri": "https://localhost:8080/"
        },
        "id": "aaX4URH0ivBh",
        "outputId": "c7bcf537-9994-4aee-81a2-e209d2ed4879"
      },
      "execution_count": null,
      "outputs": [
        {
          "output_type": "execute_result",
          "data": {
            "text/plain": [
              "array([[7, 7, 7],\n",
              "       [7, 7, 7]])"
            ]
          },
          "metadata": {},
          "execution_count": 24
        }
      ]
    },
    {
      "cell_type": "code",
      "source": [
        "arr3=np.array([[1,1,1],[1,1,1]])\n",
        "print(np.sum([arr1,arr2]))\n",
        "print(np.sum([arr1,arr2,arr3]))"
      ],
      "metadata": {
        "colab": {
          "base_uri": "https://localhost:8080/"
        },
        "id": "OxKAao9ni7rC",
        "outputId": "fb27e840-669c-42ab-8457-5f782672f1ba"
      },
      "execution_count": null,
      "outputs": [
        {
          "output_type": "stream",
          "name": "stdout",
          "text": [
            "42\n",
            "48\n"
          ]
        }
      ]
    },
    {
      "cell_type": "markdown",
      "source": [
        "Si aplicamos un eje en *np.sum()*, se aplica la suma en ese mismo eje. Por ejemplo, con eje 0, se obtienen los mismos resultados que *np.add()*"
      ],
      "metadata": {
        "id": "RnJhZTN4i8_1"
      }
    },
    {
      "cell_type": "code",
      "source": [
        "np.sum([arr1,arr2, arr3],axis=0)"
      ],
      "metadata": {
        "colab": {
          "base_uri": "https://localhost:8080/"
        },
        "id": "kDnm3Lz5jBm9",
        "outputId": "85866d5c-c073-4824-f6b2-bf46a8d039be"
      },
      "execution_count": null,
      "outputs": [
        {
          "output_type": "execute_result",
          "data": {
            "text/plain": [
              "array([[8, 8, 8],\n",
              "       [8, 8, 8]])"
            ]
          },
          "metadata": {},
          "execution_count": 26
        }
      ]
    },
    {
      "cell_type": "code",
      "source": [
        "np.sum([arr1,arr2, arr3],axis=1)"
      ],
      "metadata": {
        "colab": {
          "base_uri": "https://localhost:8080/"
        },
        "id": "VW_hOxKWjEpl",
        "outputId": "40258c7e-4787-48a6-df56-250f56e7ddc9"
      },
      "execution_count": null,
      "outputs": [
        {
          "output_type": "execute_result",
          "data": {
            "text/plain": [
              "array([[5, 7, 9],\n",
              "       [9, 7, 5],\n",
              "       [2, 2, 2]])"
            ]
          },
          "metadata": {},
          "execution_count": 27
        }
      ]
    },
    {
      "cell_type": "markdown",
      "source": [
        ""
      ],
      "metadata": {
        "id": "S8AhwjS_jG9R"
      }
    },
    {
      "cell_type": "markdown",
      "source": [
        "## **Multiplicación**"
      ],
      "metadata": {
        "id": "9EvhNw2hjqOg"
      }
    },
    {
      "cell_type": "markdown",
      "source": [
        "El primer caso de multiplicación es np.prod(), que funciona similar que np.sum()"
      ],
      "metadata": {
        "id": "vjtaWmwMjuGi"
      }
    },
    {
      "cell_type": "code",
      "source": [
        "print(\"arr1=\\n\",arr1,\"\\n\")\n",
        "print(\"arr2=\\n\",arr2,\"\\n\")\n",
        "print(np.prod([arr1,arr2]),\"\\n\")\n",
        "print(np.prod([arr1,arr2],axis=0),\"\\n\")\n",
        "print(np.prod([arr1,arr2],axis=1))"
      ],
      "metadata": {
        "colab": {
          "base_uri": "https://localhost:8080/"
        },
        "id": "R413fc4PjvXB",
        "outputId": "c2215b78-60ee-45ae-d3d4-25db3feb189c"
      },
      "execution_count": null,
      "outputs": [
        {
          "output_type": "stream",
          "name": "stdout",
          "text": [
            "arr1=\n",
            " [[1 2 3]\n",
            " [4 5 6]] \n",
            "\n",
            "arr2=\n",
            " [[6 5 4]\n",
            " [3 2 1]] \n",
            "\n",
            "518400 \n",
            "\n",
            "[[ 6 10 12]\n",
            " [12 10  6]] \n",
            "\n",
            "[[ 4 10 18]\n",
            " [18 10  4]]\n"
          ]
        }
      ]
    },
    {
      "cell_type": "markdown",
      "source": [
        "## **Multiplicación Matricial**"
      ],
      "metadata": {
        "id": "8gakR9Rjj13M"
      }
    },
    {
      "cell_type": "markdown",
      "source": [
        "Para la multiplicación de matrices usamos np.matmul() o np.dot(). hay que tener en cuenta la forma de las matrices"
      ],
      "metadata": {
        "id": "FNlIlwqNj1gI"
      }
    },
    {
      "cell_type": "code",
      "source": [
        "np.matmul(arr1, arr2.T)"
      ],
      "metadata": {
        "colab": {
          "base_uri": "https://localhost:8080/"
        },
        "id": "9kWEelJxj7aF",
        "outputId": "0e421b22-4175-4f02-df3b-23aa4f89b8f5"
      },
      "execution_count": null,
      "outputs": [
        {
          "output_type": "execute_result",
          "data": {
            "text/plain": [
              "array([[28, 10],\n",
              "       [73, 28]])"
            ]
          },
          "metadata": {},
          "execution_count": 29
        }
      ]
    },
    {
      "cell_type": "code",
      "source": [
        "np.dot(arr1, arr2.T)"
      ],
      "metadata": {
        "colab": {
          "base_uri": "https://localhost:8080/"
        },
        "id": "QKFoFesakGgc",
        "outputId": "9e169852-c642-449a-f4e1-db807c263dfd"
      },
      "execution_count": null,
      "outputs": [
        {
          "output_type": "execute_result",
          "data": {
            "text/plain": [
              "array([[28, 10],\n",
              "       [73, 28]])"
            ]
          },
          "metadata": {},
          "execution_count": 30
        }
      ]
    },
    {
      "cell_type": "markdown",
      "source": [
        "Se comportan distinto con matrices de dos dimensiones, para otros casos hacen cosas distintas"
      ],
      "metadata": {
        "id": "-7f07IwIkJ2s"
      }
    },
    {
      "cell_type": "code",
      "source": [
        "print(\"d =\\n\",d,\"\\n\") #2,2,4\n",
        "print(\"d.reshape =\\n\",d.reshape(2,4,2),\"\\n\") #2,4,2\n",
        "np.dot(d,d.reshape(2,4,2)) #2,2,2,2"
      ],
      "metadata": {
        "colab": {
          "base_uri": "https://localhost:8080/"
        },
        "id": "xF1-smoekMFm",
        "outputId": "31349aa9-ed73-4b41-af0f-1b1c29a5768e"
      },
      "execution_count": null,
      "outputs": [
        {
          "output_type": "stream",
          "name": "stdout",
          "text": [
            "d =\n",
            " [[[ 1  2  3  4]\n",
            "  [ 5  6  7  8]]\n",
            "\n",
            " [[ 9 10 11 12]\n",
            "  [13 14 15 16]]] \n",
            "\n",
            "d.reshape =\n",
            " [[[ 1  2]\n",
            "  [ 3  4]\n",
            "  [ 5  6]\n",
            "  [ 7  8]]\n",
            "\n",
            " [[ 9 10]\n",
            "  [11 12]\n",
            "  [13 14]\n",
            "  [15 16]]] \n",
            "\n"
          ]
        },
        {
          "output_type": "execute_result",
          "data": {
            "text/plain": [
              "array([[[[ 50,  60],\n",
              "         [130, 140]],\n",
              "\n",
              "        [[114, 140],\n",
              "         [322, 348]]],\n",
              "\n",
              "\n",
              "       [[[178, 220],\n",
              "         [514, 556]],\n",
              "\n",
              "        [[242, 300],\n",
              "         [706, 764]]]])"
            ]
          },
          "metadata": {},
          "execution_count": 31
        }
      ]
    },
    {
      "cell_type": "code",
      "source": [
        "print(np.dot(d[0],d.reshape(2,4,2)[0]),\"\\n\")\n",
        "print(np.dot(d[0],d.reshape(2,4,2)[1]),\"\\n\")\n",
        "print(np.dot(d[1],d.reshape(2,4,2)[0]),\"\\n\")\n",
        "print(np.dot(d[1],d.reshape(2,4,2)[1]),\"\\n\")"
      ],
      "metadata": {
        "colab": {
          "base_uri": "https://localhost:8080/"
        },
        "id": "N7zOtDzmkRpu",
        "outputId": "90de76c1-d4c6-470e-b0c6-75b1fe7134b8"
      },
      "execution_count": null,
      "outputs": [
        {
          "output_type": "stream",
          "name": "stdout",
          "text": [
            "[[ 50  60]\n",
            " [114 140]] \n",
            "\n",
            "[[130 140]\n",
            " [322 348]] \n",
            "\n",
            "[[178 220]\n",
            " [242 300]] \n",
            "\n",
            "[[514 556]\n",
            " [706 764]] \n",
            "\n"
          ]
        }
      ]
    },
    {
      "cell_type": "markdown",
      "source": [
        "Con *matmul* no se pueden multiplicar escalares c.A (c escalar, A matriz), además Matmul hace las multiplicaciones matriz a matriz (matrices como elementos), de ahí la diferencia con *dot*, donde este toma los números dentro de las matrices como elementos."
      ],
      "metadata": {
        "id": "oMw40mjKkVl8"
      }
    },
    {
      "cell_type": "code",
      "source": [
        "np.matmul(d,d.reshape(2,4,2))"
      ],
      "metadata": {
        "id": "8cpcVUX6kbeJ",
        "outputId": "689ab4e7-70d4-4838-c90f-479abd388fcd",
        "colab": {
          "base_uri": "https://localhost:8080/"
        }
      },
      "execution_count": null,
      "outputs": [
        {
          "output_type": "execute_result",
          "data": {
            "text/plain": [
              "array([[[ 50,  60],\n",
              "        [114, 140]],\n",
              "\n",
              "       [[514, 556],\n",
              "        [706, 764]]])"
            ]
          },
          "metadata": {},
          "execution_count": 33
        }
      ]
    }
  ]
}