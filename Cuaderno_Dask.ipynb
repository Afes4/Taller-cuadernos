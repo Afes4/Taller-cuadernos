{
  "nbformat": 4,
  "nbformat_minor": 0,
  "metadata": {
    "colab": {
      "name": "Cuaderno Dask.ipynb",
      "provenance": [],
      "collapsed_sections": [],
      "authorship_tag": "ABX9TyO9g5mfPnggAxkjBRcxAJkp",
      "include_colab_link": true
    },
    "kernelspec": {
      "name": "python3",
      "display_name": "Python 3"
    },
    "language_info": {
      "name": "python"
    }
  },
  "cells": [
    {
      "cell_type": "markdown",
      "metadata": {
        "id": "view-in-github",
        "colab_type": "text"
      },
      "source": [
        "<a href=\"https://colab.research.google.com/github/Afes4/Taller-cuadernos/blob/main/Cuaderno_Dask.ipynb\" target=\"_parent\"><img src=\"https://colab.research.google.com/assets/colab-badge.svg\" alt=\"Open In Colab\"/></a>"
      ]
    },
    {
      "cell_type": "markdown",
      "source": [
        "# **Procesamiento Paralelo. Mejores prácticas**"
      ],
      "metadata": {
        "id": "_83afC20ADVO"
      }
    },
    {
      "cell_type": "markdown",
      "source": [
        "# **Mejores prácticas con *dask.delayed***"
      ],
      "metadata": {
        "id": "Yxp-WQssAGmT"
      }
    },
    {
      "cell_type": "markdown",
      "source": [
        "![Logo Dask.png](data:image/png;base64,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)"
      ],
      "metadata": {
        "id": "_s5MbfW8Ac2P"
      }
    },
    {
      "cell_type": "markdown",
      "source": [
        "# **Autor**"
      ],
      "metadata": {
        "id": "coIh-oKdCVMP"
      }
    },
    {
      "cell_type": "markdown",
      "source": [
        "Anderson Felipe Estrada Sánchez, anestradas@unal.edu.co"
      ],
      "metadata": {
        "id": "PTO_FMfICXsJ"
      }
    },
    {
      "cell_type": "markdown",
      "source": [
        "# **Tomado de:**"
      ],
      "metadata": {
        "id": "GbEM0kDpCcOY"
      }
    },
    {
      "cell_type": "markdown",
      "source": [
        "https://github.com/AprendizajeProfundo/BigData/blob/main/Dask/Cuadernos/01_dask_Mejores_Practicas.ipynb\n",
        "\n",
        "https://github.com/dask/dask-tutorial\n",
        "\n",
        "https://docs.dask.org/en/stable/delayed-best-practices.html"
      ],
      "metadata": {
        "id": "SCMBLXCHC9Rw"
      }
    },
    {
      "cell_type": "markdown",
      "source": [
        "# **Introducción**"
      ],
      "metadata": {
        "id": "rrspxH0tASLv"
      }
    },
    {
      "cell_type": "markdown",
      "source": [
        "Es fácil comenzar con Dask delayed, pero usarlo bien requiere algo de experiencia. Esta lección contiene sugerencias de mejores prácticas e incluye soluciones a problemas comunes."
      ],
      "metadata": {
        "id": "DoC6clQzDX25"
      }
    },
    {
      "cell_type": "code",
      "source": [
        "!python -m pip install \"dask[complete]\"\n",
        "import dask\n",
        "import dask.dataframe as dd"
      ],
      "metadata": {
        "colab": {
          "base_uri": "https://localhost:8080/"
        },
        "id": "l2z_BI-UFZ6q",
        "outputId": "450754bc-3db5-436a-80c8-0806aec0447f"
      },
      "execution_count": null,
      "outputs": [
        {
          "output_type": "stream",
          "name": "stdout",
          "text": [
            "Requirement already satisfied: dask[complete] in /usr/local/lib/python3.7/dist-packages (2.12.0)\n",
            "Requirement already satisfied: numpy>=1.13.0 in /usr/local/lib/python3.7/dist-packages (from dask[complete]) (1.21.6)\n",
            "Requirement already satisfied: cloudpickle>=0.2.1 in /usr/local/lib/python3.7/dist-packages (from dask[complete]) (1.3.0)\n",
            "Requirement already satisfied: pandas>=0.23.0 in /usr/local/lib/python3.7/dist-packages (from dask[complete]) (1.3.5)\n",
            "Requirement already satisfied: toolz>=0.7.3 in /usr/local/lib/python3.7/dist-packages (from dask[complete]) (0.11.2)\n",
            "Requirement already satisfied: bokeh>=1.0.0 in /usr/local/lib/python3.7/dist-packages (from dask[complete]) (2.3.3)\n",
            "Collecting fsspec>=0.6.0\n",
            "  Downloading fsspec-2022.3.0-py3-none-any.whl (136 kB)\n",
            "\u001b[K     |████████████████████████████████| 136 kB 3.1 MB/s \n",
            "\u001b[?25hCollecting distributed>=2.0\n",
            "  Downloading distributed-2022.2.0-py3-none-any.whl (837 kB)\n",
            "\u001b[K     |████████████████████████████████| 837 kB 29.8 MB/s \n",
            "\u001b[?25hCollecting partd>=0.3.10\n",
            "  Downloading partd-1.2.0-py3-none-any.whl (19 kB)\n",
            "Requirement already satisfied: PyYaml in /usr/local/lib/python3.7/dist-packages (from dask[complete]) (3.13)\n",
            "Requirement already satisfied: typing-extensions>=3.7.4 in /usr/local/lib/python3.7/dist-packages (from bokeh>=1.0.0->dask[complete]) (4.2.0)\n",
            "Requirement already satisfied: packaging>=16.8 in /usr/local/lib/python3.7/dist-packages (from bokeh>=1.0.0->dask[complete]) (21.3)\n",
            "Requirement already satisfied: pillow>=7.1.0 in /usr/local/lib/python3.7/dist-packages (from bokeh>=1.0.0->dask[complete]) (7.1.2)\n",
            "Requirement already satisfied: tornado>=5.1 in /usr/local/lib/python3.7/dist-packages (from bokeh>=1.0.0->dask[complete]) (5.1.1)\n",
            "Requirement already satisfied: python-dateutil>=2.1 in /usr/local/lib/python3.7/dist-packages (from bokeh>=1.0.0->dask[complete]) (2.8.2)\n",
            "Requirement already satisfied: Jinja2>=2.9 in /usr/local/lib/python3.7/dist-packages (from bokeh>=1.0.0->dask[complete]) (2.11.3)\n",
            "Collecting cloudpickle>=0.2.1\n",
            "  Downloading cloudpickle-2.0.0-py3-none-any.whl (25 kB)\n",
            "Requirement already satisfied: zict>=0.1.3 in /usr/local/lib/python3.7/dist-packages (from distributed>=2.0->dask[complete]) (2.2.0)\n",
            "Requirement already satisfied: setuptools in /usr/local/lib/python3.7/dist-packages (from distributed>=2.0->dask[complete]) (57.4.0)\n",
            "Requirement already satisfied: msgpack>=0.6.0 in /usr/local/lib/python3.7/dist-packages (from distributed>=2.0->dask[complete]) (1.0.3)\n",
            "Requirement already satisfied: sortedcontainers!=2.0.0,!=2.0.1 in /usr/local/lib/python3.7/dist-packages (from distributed>=2.0->dask[complete]) (2.4.0)\n",
            "Collecting distributed>=2.0\n",
            "  Downloading distributed-2022.1.1-py3-none-any.whl (830 kB)\n",
            "\u001b[K     |████████████████████████████████| 830 kB 47.1 MB/s \n",
            "\u001b[?25hRequirement already satisfied: psutil>=5.0 in /usr/local/lib/python3.7/dist-packages (from distributed>=2.0->dask[complete]) (5.4.8)\n",
            "Requirement already satisfied: click>=6.6 in /usr/local/lib/python3.7/dist-packages (from distributed>=2.0->dask[complete]) (7.1.2)\n",
            "  Downloading distributed-2022.1.0-py3-none-any.whl (822 kB)\n",
            "\u001b[K     |████████████████████████████████| 822 kB 51.5 MB/s \n",
            "\u001b[?25h  Downloading distributed-2021.12.0-py3-none-any.whl (802 kB)\n",
            "\u001b[K     |████████████████████████████████| 802 kB 52.7 MB/s \n",
            "\u001b[?25h  Downloading distributed-2021.11.2-py3-none-any.whl (802 kB)\n",
            "\u001b[K     |████████████████████████████████| 802 kB 49.1 MB/s \n",
            "\u001b[?25hRequirement already satisfied: tblib>=1.6.0 in /usr/local/lib/python3.7/dist-packages (from distributed>=2.0->dask[complete]) (1.7.0)\n",
            "  Downloading distributed-2021.11.1-py3-none-any.whl (793 kB)\n",
            "\u001b[K     |████████████████████████████████| 793 kB 36.6 MB/s \n",
            "\u001b[?25h  Downloading distributed-2021.11.0-py3-none-any.whl (793 kB)\n",
            "\u001b[K     |████████████████████████████████| 793 kB 45.1 MB/s \n",
            "\u001b[?25h  Downloading distributed-2021.10.0-py3-none-any.whl (791 kB)\n",
            "\u001b[K     |████████████████████████████████| 791 kB 45.6 MB/s \n",
            "\u001b[?25h  Downloading distributed-2021.9.1-py3-none-any.whl (786 kB)\n",
            "\u001b[K     |████████████████████████████████| 786 kB 43.7 MB/s \n",
            "\u001b[?25h  Downloading distributed-2021.9.0-py3-none-any.whl (779 kB)\n",
            "\u001b[K     |████████████████████████████████| 779 kB 48.1 MB/s \n",
            "\u001b[?25h  Downloading distributed-2021.8.1-py3-none-any.whl (778 kB)\n",
            "\u001b[K     |████████████████████████████████| 778 kB 13.8 MB/s \n",
            "\u001b[?25h  Downloading distributed-2021.8.0-py3-none-any.whl (776 kB)\n",
            "\u001b[K     |████████████████████████████████| 776 kB 43.5 MB/s \n",
            "\u001b[?25h  Downloading distributed-2021.7.2-py3-none-any.whl (769 kB)\n",
            "\u001b[K     |████████████████████████████████| 769 kB 43.6 MB/s \n",
            "\u001b[?25h  Downloading distributed-2021.7.1-py3-none-any.whl (766 kB)\n",
            "\u001b[K     |████████████████████████████████| 766 kB 43.2 MB/s \n",
            "\u001b[?25h  Downloading distributed-2021.7.0-py3-none-any.whl (1.0 MB)\n",
            "\u001b[K     |████████████████████████████████| 1.0 MB 48.1 MB/s \n",
            "\u001b[?25h  Downloading distributed-2021.6.2-py3-none-any.whl (722 kB)\n",
            "\u001b[K     |████████████████████████████████| 722 kB 52.3 MB/s \n",
            "\u001b[?25h  Downloading distributed-2021.6.1-py3-none-any.whl (722 kB)\n",
            "\u001b[K     |████████████████████████████████| 722 kB 55.5 MB/s \n",
            "\u001b[?25h  Downloading distributed-2021.6.0-py3-none-any.whl (715 kB)\n",
            "\u001b[K     |████████████████████████████████| 715 kB 40.6 MB/s \n",
            "\u001b[?25h  Downloading distributed-2021.5.1-py3-none-any.whl (705 kB)\n",
            "\u001b[K     |████████████████████████████████| 705 kB 53.6 MB/s \n",
            "\u001b[?25h  Downloading distributed-2021.5.0-py3-none-any.whl (699 kB)\n",
            "\u001b[K     |████████████████████████████████| 699 kB 53.7 MB/s \n",
            "\u001b[?25h  Downloading distributed-2021.4.1-py3-none-any.whl (696 kB)\n",
            "\u001b[K     |████████████████████████████████| 696 kB 56.2 MB/s \n",
            "\u001b[?25h  Downloading distributed-2021.4.0-py3-none-any.whl (684 kB)\n",
            "\u001b[K     |████████████████████████████████| 684 kB 48.3 MB/s \n",
            "\u001b[?25h  Downloading distributed-2021.3.1-py3-none-any.whl (679 kB)\n",
            "\u001b[K     |████████████████████████████████| 679 kB 44.0 MB/s \n",
            "\u001b[?25h  Downloading distributed-2021.3.0-py3-none-any.whl (675 kB)\n",
            "\u001b[K     |████████████████████████████████| 675 kB 52.3 MB/s \n",
            "\u001b[?25h  Downloading distributed-2021.2.0-py3-none-any.whl (675 kB)\n",
            "\u001b[K     |████████████████████████████████| 675 kB 61.3 MB/s \n",
            "\u001b[?25h  Downloading distributed-2021.1.1-py3-none-any.whl (672 kB)\n",
            "\u001b[K     |████████████████████████████████| 672 kB 47.9 MB/s \n",
            "\u001b[?25h  Downloading distributed-2021.1.0-py3-none-any.whl (671 kB)\n",
            "\u001b[K     |████████████████████████████████| 671 kB 70.8 MB/s \n",
            "\u001b[?25h  Downloading distributed-2020.12.0-py3-none-any.whl (669 kB)\n",
            "\u001b[K     |████████████████████████████████| 669 kB 58.9 MB/s \n",
            "\u001b[?25h  Downloading distributed-2.30.1-py3-none-any.whl (656 kB)\n",
            "\u001b[K     |████████████████████████████████| 656 kB 50.7 MB/s \n",
            "\u001b[?25hRequirement already satisfied: MarkupSafe>=0.23 in /usr/local/lib/python3.7/dist-packages (from Jinja2>=2.9->bokeh>=1.0.0->dask[complete]) (2.0.1)\n",
            "Requirement already satisfied: pyparsing!=3.0.5,>=2.0.2 in /usr/local/lib/python3.7/dist-packages (from packaging>=16.8->bokeh>=1.0.0->dask[complete]) (3.0.9)\n",
            "Requirement already satisfied: pytz>=2017.3 in /usr/local/lib/python3.7/dist-packages (from pandas>=0.23.0->dask[complete]) (2022.1)\n",
            "Collecting locket\n",
            "  Downloading locket-1.0.0-py2.py3-none-any.whl (4.4 kB)\n",
            "Requirement already satisfied: six>=1.5 in /usr/local/lib/python3.7/dist-packages (from python-dateutil>=2.1->bokeh>=1.0.0->dask[complete]) (1.15.0)\n",
            "Requirement already satisfied: heapdict in /usr/local/lib/python3.7/dist-packages (from zict>=0.1.3->distributed>=2.0->dask[complete]) (1.0.1)\n",
            "Installing collected packages: locket, cloudpickle, partd, fsspec, distributed\n",
            "  Attempting uninstall: cloudpickle\n",
            "    Found existing installation: cloudpickle 1.3.0\n",
            "    Uninstalling cloudpickle-1.3.0:\n",
            "      Successfully uninstalled cloudpickle-1.3.0\n",
            "  Attempting uninstall: distributed\n",
            "    Found existing installation: distributed 1.25.3\n",
            "    Uninstalling distributed-1.25.3:\n",
            "      Successfully uninstalled distributed-1.25.3\n",
            "\u001b[31mERROR: pip's dependency resolver does not currently take into account all the packages that are installed. This behaviour is the source of the following dependency conflicts.\n",
            "gym 0.17.3 requires cloudpickle<1.7.0,>=1.2.0, but you have cloudpickle 2.0.0 which is incompatible.\u001b[0m\n",
            "Successfully installed cloudpickle-2.0.0 distributed-2.30.1 fsspec-2022.3.0 locket-1.0.0 partd-1.2.0\n"
          ]
        }
      ]
    },
    {
      "cell_type": "code",
      "source": [
        "from dask.delayed import delayed"
      ],
      "metadata": {
        "id": "OuU2SbbiGofR"
      },
      "execution_count": null,
      "outputs": []
    },
    {
      "cell_type": "markdown",
      "source": [
        "# **Llamada retrasada a la función, no al resultado**"
      ],
      "metadata": {
        "id": "qqhpmpWwDaK3"
      }
    },
    {
      "cell_type": "markdown",
      "source": [
        "Dask delayed opera en funciones como ***dask.delayed(f)(x, y)***, no en sus resultados como ***dask.delayed(f(x, y))***. Cuando haces esto último, Python primero calcula ***f(x, y)*** antes de que Dask tenga la oportunidad de intervenir."
      ],
      "metadata": {
        "id": "Q_SnOYWOJi9V"
      }
    },
    {
      "cell_type": "markdown",
      "source": [
        "*   **Forma incorrecta:**\n",
        "\n",
        "    Esto se ejecuta inmediatamente\n",
        "\n",
        "        dask.delayed(f(x, y))\n",
        "\n",
        "*   **Forma correcta:**\n",
        "\n",
        "    Esto retrasa la función, haciendola actuar \"perezosamente\"\n",
        "  \n",
        "        dask.delayed(f)(x, y)"
      ],
      "metadata": {
        "id": "SSQ_2T_gIxnM"
      }
    },
    {
      "cell_type": "markdown",
      "source": [
        "# **Programe muchos cálculos a la vez**"
      ],
      "metadata": {
        "id": "FNbnFl6ANIvM"
      }
    },
    {
      "cell_type": "markdown",
      "source": [
        "Para mejorar el paralelismo, debe incluir muchos cálculos en cada \"llamada\" de compute. Idealmente, debe realizar muchas llamadas ***dask.delayed*** para definir su cálculo y luego llamar unicamente al final, ***dask.compute***. Y aunque, támbien está bien llamar ***dask.compute*** en medio de su cálculo , todo se detendrá allí mientras ***Dask*** calcula esos resultados antes de continuar con su código."
      ],
      "metadata": {
        "id": "ZMzag3_BNNZe"
      }
    },
    {
      "cell_type": "markdown",
      "source": [
        "\n",
        "\n",
        "*   **Forma incorrecta:**\n",
        "\n",
        "    Evite llamar a compute repetidamente\n",
        "\n",
        "        results = []\n",
        "        for x in L:\n",
        "            y = dask.delayed(f)(x)\n",
        "            results.append(y.compute())\n",
        "\n",
        "        results\n",
        "\n",
        "*   **Forma correcta:**\n",
        " \n",
        "    Recopile muchas llamadas para un solo compute\n",
        "\n",
        "        results = []\n",
        "        for x in L:\n",
        "            y = dask.delayed(f)(x)\n",
        "            results.append(y)\n",
        "\n",
        "        results = dask.compute(*results)"
      ],
      "metadata": {
        "id": "ZteI1Uc9OtT8"
      }
    },
    {
      "cell_type": "markdown",
      "source": [
        "Llamar ***y.compute()*** dentro del ciclo se esperaría el resultado del cálculo cada vez, y por lo tanto, inhibiría el paralelismo."
      ],
      "metadata": {
        "id": "XSVCuHxkRtS_"
      }
    },
    {
      "cell_type": "markdown",
      "source": [
        "# **No modifique las entradas**"
      ],
      "metadata": {
        "id": "6P9H_n-BUzM2"
      }
    },
    {
      "cell_type": "markdown",
      "source": [
        "\n",
        "*   **Forma incorrecta:**\n",
        "\n",
        "    Modifique entradas en funciones\n",
        "\n",
        "        @dask.delayed\n",
        "        def f(x):\n",
        "            x += 1\n",
        "            return x\n",
        "\n",
        "*   **Forma correcta:**\n",
        " \n",
        "    Devolver nuevos valores o copias\n",
        "\n",
        "        @dask.delayed\n",
        "        def f(x):\n",
        "            x = x + 1\n",
        "            return x   \n",
        "*   Si necesita usar una operación modificable, primero haga una copia dentro de su función: \n",
        "  \n",
        "        @dask.delayed\n",
        "        def f(x):\n",
        "            x = copy(x)\n",
        "            x += 1\n",
        "            return x\n",
        "\n"
      ],
      "metadata": {
        "id": "e5nwlB-yU1VE"
      }
    },
    {
      "cell_type": "markdown",
      "source": [
        "# **Evite el estado global**"
      ],
      "metadata": {
        "id": "Htn0GyBjVzfQ"
      }
    },
    {
      "cell_type": "markdown",
      "source": [
        "Idealmente, sus operaciones no deberían depender del estado global. El uso del estado global puede funcionar si solo usa subprocesos, pero cuando se pasa a la computación distribuida o multiprocesamiento, es probable que encuentre errores confusos."
      ],
      "metadata": {
        "id": "qD-xvZbyiz2D"
      }
    },
    {
      "cell_type": "markdown",
      "source": [
        "\n",
        "*   **Forma incorrecta:**\n",
        "\n",
        "        L = []\n",
        "\n",
        "        # Esto hace referencia a la variable global L\n",
        "\n",
        "        @dask.delayed\n",
        "        def f(x):\n",
        "            L.append(x)\n"
      ],
      "metadata": {
        "id": "qP0M0q-oi00L"
      }
    },
    {
      "cell_type": "markdown",
      "source": [
        "# **Evite efectos colaterales**"
      ],
      "metadata": {
        "id": "BwVlR5nKjd4o"
      }
    },
    {
      "cell_type": "markdown",
      "source": [
        "Las funciones delayed solo hacen algo si se calculan. Siempre necesitará pasar la salida a algo que eventualmente llame a compute."
      ],
      "metadata": {
        "id": "LLPEo0HbjfeP"
      }
    },
    {
      "cell_type": "markdown",
      "source": [
        "\n",
        "*   **Forma incorrecta:**\n",
        "\n",
        "    Olvídese de llamar a compute\n",
        "\n",
        "        dask.delayed(f)(1, 2, 3)\n",
        "        ...\n",
        "\n",
        "*   **Forma correcta:**\n",
        " \n",
        "    Asegúrese de que las tareas retrasadas se calculen\n",
        "\n",
        "        x = dask.delayed(f)(1, 2, 3)\n",
        "        ...\n",
        "        dask.compute(x, ...)   \n"
      ],
      "metadata": {
        "id": "IBJ05IlEjxgv"
      }
    },
    {
      "cell_type": "markdown",
      "source": [
        "En el primer caso aquí, no pasa nada, porque nunca se llama a compute()."
      ],
      "metadata": {
        "id": "flnZ--_EkfUH"
      }
    },
    {
      "cell_type": "markdown",
      "source": [
        "# **Divida los cálculos en muchas partes**"
      ],
      "metadata": {
        "id": "4mBY7L84lXzg"
      }
    },
    {
      "cell_type": "markdown",
      "source": [
        "Cada llamada a la función ***dask.delayed*** es una sola operación desde la perspectiva de ***Dask***. Usted logra el paralelismo teniendo muchas llamadas retrasadas, no usando solo una: Dask no mirará dentro de una función decorada con ***@dask.delayed*** y paralelizará ese código internamente. Para lograr eso, necesita su ayuda para encontrar buenos lugares para dividir un cálculo."
      ],
      "metadata": {
        "id": "AN6A4s9cmLIo"
      }
    },
    {
      "cell_type": "markdown",
      "source": [
        "\n",
        "*   **Forma incorrecta:**\n",
        "\n",
        "    Una tarea gigante\n",
        "\n",
        "        def load(filename):\n",
        "            ...\n",
        "\n",
        "        def process(data):\n",
        "            ...\n",
        "\n",
        "        def save(data):\n",
        "            ...\n",
        "\n",
        "        @dask.delayed\n",
        "        def f(filenames):\n",
        "            results = []\n",
        "            for filename in filenames:\n",
        "                data = load(filename)\n",
        "                data = process(data)\n",
        "                result = save(data)\n",
        "\n",
        "            return results\n",
        "\n",
        "        dask.compute(f(filenames))\n",
        "\n",
        "*   **Forma correcta:**\n",
        " \n",
        "    Dividirse en muchas tareas\n",
        "\n",
        "        @dask.delayed\n",
        "        def load(filename):\n",
        "            ...\n",
        "\n",
        "        @dask.delayed\n",
        "        def process(data):\n",
        "            ...\n",
        "\n",
        "        @dask.delayed\n",
        "        def save(data):\n",
        "            ...\n",
        "\n",
        "        def f(filenames):\n",
        "            results = []\n",
        "            for filename in filenames:\n",
        "                data = load(filename)\n",
        "                data = process(data)\n",
        "                result = save(data)\n",
        "\n",
        "            return results\n",
        "\n",
        "        dask.compute(f(filenames))  "
      ],
      "metadata": {
        "id": "gD3SY8Hfm-NO"
      }
    },
    {
      "cell_type": "markdown",
      "source": [
        "La primera versión solo tiene una tarea retrasada, por lo que no se puede paralelizar."
      ],
      "metadata": {
        "id": "_ktN8A2fona4"
      }
    },
    {
      "cell_type": "markdown",
      "source": [
        "# **Evite demasiadas tareas retrasadas**"
      ],
      "metadata": {
        "id": "Jd3sDGOJooVZ"
      }
    },
    {
      "cell_type": "markdown",
      "source": [
        "Cada tarea retrasada tiene una sobrecarga de unos cientos de microsegundos. Por lo general, esto está bien, pero puede convertirse en un problema si aplica ***dask.delayed*** demasiado finamente. En este caso, a menudo es mejor dividir sus muchas tareas en lotes o usar una de las colecciones de Dask para ayudarlo."
      ],
      "metadata": {
        "id": "tq-IZbl8oxeW"
      }
    },
    {
      "cell_type": "markdown",
      "source": [
        "*   **Forma incorrecta:**\n",
        "\n",
        "    Demasiadas tareas\n",
        "\n",
        "        results = []\n",
        "        for x in range(10000000):\n",
        "            y = dask.delayed(f)(x)\n",
        "            results.append(y)\n",
        "*   **Forma correcta:**\n",
        " \n",
        "    Usar colecciones\n",
        "\n",
        "        import dask.bag as db\n",
        "        b = db.from_sequence(range(10000000), npartitions=1000)\n",
        "        b = b.map(f)\n",
        "        ...   \n"
      ],
      "metadata": {
        "id": "WG4u0Iwpo6hd"
      }
    },
    {
      "cell_type": "markdown",
      "source": [
        "Aquí usamos ***dask.bag*** para aplicar por lotes automáticamente nuestra función. También podríamos haber construido nuestro propio procesamiento por lotes de la siguiente manera:\n",
        "\n",
        "*   Alternativamente, sin usar bag collection\n",
        "\n",
        "        def batch(seq):\n",
        "            sub_results = []\n",
        "            for x in seq:\n",
        "                sub_results.append(f(x))\n",
        "            return sub_results\n",
        "\n",
        "         batches = []\n",
        "         for i in range(0, 10000000, 10000):\n",
        "             result_batch = dask.delayed(batch)(range(i, i + 10000))\n",
        "             batches.append(result_batch)\n",
        "\n",
        "\n"
      ],
      "metadata": {
        "id": "GehcnSY4p0Ew"
      }
    },
    {
      "cell_type": "markdown",
      "source": [
        "Aquí construimos lotes donde cada llamada de función retrasada calcula muchos puntos de datos desde la entrada original."
      ],
      "metadata": {
        "id": "fEQ9a42Bp2yt"
      }
    },
    {
      "cell_type": "markdown",
      "source": [
        "# **Evite llamar delayed dentro de funciones retrasadas**"
      ],
      "metadata": {
        "id": "5kWdvHukszlX"
      }
    },
    {
      "cell_type": "markdown",
      "source": [
        "A menudo, si es nuevo en el uso de Dask delayed, realiza llamadas ***dask.delayed*** en todas partes y espera lo mejor. Si bien esto puede funcionar, generalmente es lento y da como resultado soluciones difíciles de entender.\n",
        "\n",
        "Por lo general, nunca llame a ***dask.delayed*** dentro de las funciones ***dask.delayed***."
      ],
      "metadata": {
        "id": "8vb5IJlNs5Kl"
      }
    },
    {
      "cell_type": "markdown",
      "source": [
        "*   **Forma incorrecta:**\n",
        "\n",
        "    Evitar: Delayed function calls delayed\n",
        "\n",
        "        @dask.delayed\n",
        "        def process_all(L):\n",
        "            result = []\n",
        "            for x in L:\n",
        "                y = dask.delayed(f)(x)\n",
        "                result.append(y)\n",
        "            return result\n",
        "\n",
        "*   **Forma correcta:**\n",
        " \n",
        "    Llamadas de funciones normales retrasadas\n",
        "\n",
        "        def process_all(L):\n",
        "            result = []\n",
        "            for x in L:\n",
        "                y = dask.delayed(f)(x)\n",
        "                result.append(y)\n",
        "            return result  \n"
      ],
      "metadata": {
        "id": "VMz0WQ9ptJWj"
      }
    },
    {
      "cell_type": "markdown",
      "source": [
        "Debido a que la función normal solo realiza el trabajo retrasado, es muy rápida y, por lo tanto, no hay razón para retrasarla."
      ],
      "metadata": {
        "id": "tU8Ccv3CtJxk"
      }
    },
    {
      "cell_type": "markdown",
      "source": [
        "# **No llame a dask.delayed en otras colecciones de Dask**"
      ],
      "metadata": {
        "id": "Vz3f56smuNYE"
      }
    },
    {
      "cell_type": "markdown",
      "source": [
        "Cuando coloca una matriz Dask o Dask DataFrame en una llamada retrasada, esa función recibirá el equivalente de NumPy o Pandas.\n",
        "\n",
        "Tenga en cuenta que si su matriz es grande, esto podría bloquear a sus trabajadores.\n",
        "\n",
        "En cambio, es más común usar métodos como ***da.map_blocks***."
      ],
      "metadata": {
        "id": "0hWKWk9ruTTV"
      }
    },
    {
      "cell_type": "markdown",
      "source": [
        "*   **Forma incorrecta:**\n",
        "\n",
        "    Llamar funciones retrasadas en las colecciones de Dask\n",
        "\n",
        "        import dask.dataframe as dd\n",
        "        df = dd.read_csv('/path/to/*.csv')\n",
        "\n",
        "        dask.delayed(train)(df)\n",
        "\n",
        "*   **Forma correcta:**\n",
        " \n",
        "    Use métodos de mapeo si corresponde\n",
        "\n",
        "        import dask.dataframe as dd\n",
        "        df = dd.read_csv('/path/to/*.csv')\n",
        "\n",
        "        df.map_partitions(train)\n",
        "\n",
        "*   Alternativamente, si el procedimiento no encaja en un mapeo, siempre puede convertir sus arreglos o marcos de datos en muchos objetos retrasados, por ejemplo:\n",
        "\n",
        "        import dask.dataframe as dd\n",
        "        df = dd.read_csv('/path/to/*.csv')\n",
        "        \n",
        "        partitions = df.to_delayed()\n",
        "        delayed_values = [dask.delayed(train)(part)\n",
        "                         for part in partitions]\n",
        "\n",
        "                         \n",
        "\n",
        "*   Sin embargo, si no le importa convertir su Dask array/DataFrame en un solo fragmento, está bien.\n",
        "\n",
        "        dask.delayed(train)(..., y=df.sum())\n",
        "\n",
        "\n"
      ],
      "metadata": {
        "id": "_DH2tff5ubcd"
      }
    },
    {
      "cell_type": "markdown",
      "source": [
        "# **Evite poner repetidamente grandes entradas en llamadas retrasadas**"
      ],
      "metadata": {
        "id": "79hKpnNPwdTf"
      }
    },
    {
      "cell_type": "markdown",
      "source": [
        "Cada vez que pase un resultado concreto (cualquier cosa que no se retrase), Dask lo codificará de forma predeterminada para darle un nombre. Esto es bastante rápido (alrededor de 500 MB / s) pero puede ser lento si lo hace una y otra vez. En cambio, también es mejor retrasar sus datos.\n",
        "\n",
        "Esto es especialmente importante cuando se usa un clúster distribuido para evitar enviar sus datos por separado para cada llamada de función."
      ],
      "metadata": {
        "id": "1HUMuazRwmDo"
      }
    },
    {
      "cell_type": "markdown",
      "source": [
        "*   **Forma incorrecta:**\n",
        "\n",
        "        x = np.array(...)  # Para arrays grandes\n",
        "\n",
        "        results = [dask.delayed(train)(x, i)\n",
        "                   for i in range(1000)]\n",
        "\n",
        "*   **Forma correcta:**\n",
        " \n",
        "        x = np.array(...)    # Para arrays grandes\n",
        "        x = dask.delayed(x)  # retrasar los datos una vez\n",
        "\n",
        "        results = [dask.delayed(train)(x, i)\n",
        "                   for i in range(1000)] "
      ],
      "metadata": {
        "id": "NxdGOcbkwp1I"
      }
    },
    {
      "cell_type": "markdown",
      "source": [
        "Cada llamada a ***dask.delayed(train)(x, ...)*** tiene que codificar el array NumPy x, lo que ralentiza las cosas."
      ],
      "metadata": {
        "id": "yNfkjo_xxh6V"
      }
    }
  ]
}